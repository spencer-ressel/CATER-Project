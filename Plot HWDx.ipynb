{
 "cells": [
  {
   "cell_type": "code",
   "execution_count": 1,
   "id": "00c9695a-79f5-48a5-915e-5e7b63798af0",
   "metadata": {
    "tags": []
   },
   "outputs": [],
   "source": [
    "import glob\n",
    "import xarray as xr\n",
    "import numpy as np\n",
    "import os\n",
    "import itertools\n",
    "import matplotlib.pyplot as plt"
   ]
  },
  {
   "cell_type": "code",
   "execution_count": 2,
   "id": "8c746f97-13fe-44c8-b005-6ac00452667d",
   "metadata": {
    "tags": []
   },
   "outputs": [],
   "source": [
    "model_list = [\n",
    "    'ACCESS-CM2',\n",
    "    'ACCESS-ESM1-5', \n",
    "    'BCC-CSM2-MR',\n",
    "    'CanESM5', \n",
    "    'CNRM-CM6-1',\n",
    "    'HadGEM3-GC31-LL', \n",
    "    'IPSL-CM6A-LR', \n",
    "    'MIROC6', \n",
    "    'MRI-ESM2-0', \n",
    "    'NorESM2-LM'\n",
    "]\n",
    "experiment_list = ['ssp_extended', 'hist-nat', 'hist-GHG']"
   ]
  },
  {
   "cell_type": "code",
   "execution_count": 4,
   "id": "cda42e35-aaa3-40ae-882e-b7e22c30e3d3",
   "metadata": {
    "tags": []
   },
   "outputs": [],
   "source": [
    "for axi, model in enumerate(model_list):\n",
    "    fig, ax = plt.subplots()\n",
    "    for expi, experiment in enumerate(experiment_list):\n",
    "        da = xr.open_dataarray(f'/home/disk/p/pangulo/CATER-Project/HeatWave_Statistics/Data/{model}_{experiment}_numKoreaHWs.nc')\n",
    "        da.plot(ax=ax, label=experiment, marker='o', linestyle='dotted')\n",
    "        ax.legend(loc='upper left')\n",
    "        ax.set_ylim(0, 10)\n",
    "        ax.set_ylabel('Number of Heat Waves over KP')\n",
    "        ax.grid()\n",
    "    ax.set_title(model)\n",
    "    plt.savefig(f'/home/disk/p/pangulo/CATER-Project/HeatWave_Statistics/JA_NHW_Timeseries/{model}_comparison.png', bbox_inches='tight')\n",
    "    plt.close()"
   ]
  },
  {
   "cell_type": "code",
   "execution_count": 5,
   "id": "313180a1-7441-4919-8430-200c43749141",
   "metadata": {
    "tags": []
   },
   "outputs": [],
   "source": [
    "for axi, model in enumerate(model_list):\n",
    "    fig, ax = plt.subplots()\n",
    "    for expi, experiment in enumerate(experiment_list):\n",
    "        da = xr.open_dataarray(f'/home/disk/p/pangulo/CATER-Project/HeatWave_Statistics/Data/{model}_{experiment}_Korea_HW_days.nc')\n",
    "        da.plot(ax=ax, label=experiment, marker='o', linestyle='dotted')\n",
    "        ax.legend(loc='upper left')\n",
    "        ax.set_ylim(0, 65)\n",
    "        ax.set_ylabel('Number of Heat Waves Days KP')\n",
    "        ax.grid()\n",
    "    ax.set_title(model)\n",
    "    plt.savefig(f'/home/disk/p/pangulo/CATER-Project/HeatWave_Statistics/JA_NumHWDays_Timeseries/{model}_comparison.png', bbox_inches='tight')\n",
    "    plt.close()"
   ]
  },
  {
   "cell_type": "code",
   "execution_count": null,
   "id": "f71a1799-1119-4481-b28a-777dbeb2f865",
   "metadata": {},
   "outputs": [],
   "source": []
  }
 ],
 "metadata": {
  "kernelspec": {
   "display_name": "Python 3 (ipykernel)",
   "language": "python",
   "name": "python3"
  },
  "language_info": {
   "codemirror_mode": {
    "name": "ipython",
    "version": 3
   },
   "file_extension": ".py",
   "mimetype": "text/x-python",
   "name": "python",
   "nbconvert_exporter": "python",
   "pygments_lexer": "ipython3",
   "version": "3.9.2"
  }
 },
 "nbformat": 4,
 "nbformat_minor": 5
}
