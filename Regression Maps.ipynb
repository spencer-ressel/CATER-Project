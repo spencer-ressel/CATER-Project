{
 "cells": [
  {
   "cell_type": "code",
   "execution_count": 2,
   "id": "72270c86-2f42-4c0c-857c-d2d17284f5b8",
   "metadata": {
    "tags": []
   },
   "outputs": [],
   "source": [
    "import xarray as xr\n",
    "# import xskillscore\n",
    "import numpy as np\n",
    "from scipy import stats\n",
    "import glob\n",
    "from IPython.display import clear_output\n",
    "import matplotlib.pyplot as plt\n",
    "import matplotlib.colors as colors\n",
    "\n",
    "import cartopy.crs as ccrs\n",
    "import cartopy.feature as cfeature\n",
    "from cartopy.mpl.gridliner import LONGITUDE_FORMATTER, LATITUDE_FORMATTER"
   ]
  },
  {
   "cell_type": "code",
   "execution_count": 3,
   "id": "496c4f90-c8eb-4fef-84ac-d775b1083ce8",
   "metadata": {
    "tags": []
   },
   "outputs": [],
   "source": [
    "time_slice = slice('1/1/1970', '12/31/2020')"
   ]
  },
  {
   "cell_type": "code",
   "execution_count": 4,
   "id": "428f13df-3728-46a9-999b-d84027f4b586",
   "metadata": {
    "tags": []
   },
   "outputs": [],
   "source": [
    "model_list =  [\n",
    "    'ACCESS-CM2',\n",
    "    'ACCESS-ESM1-5', \n",
    "    'BCC-CSM2-MR',\n",
    "    'CanESM5', \n",
    "    'CNRM-CM6-1',\n",
    "    'HadGEM3-GC31-LL', \n",
    "    'IPSL-CM6A-LR', \n",
    "    'MIROC6', \n",
    "    'MRI-ESM2-0', \n",
    "    'NorESM2-LM'\n",
    "]"
   ]
  },
  {
   "cell_type": "code",
   "execution_count": 5,
   "id": "41d2e8a5-3d01-4e6a-9810-0e19897866d5",
   "metadata": {
    "tags": []
   },
   "outputs": [],
   "source": [
    "experiment_list = ['ssp_extended', 'hist-nat', 'hist-GHG']"
   ]
  },
  {
   "cell_type": "code",
   "execution_count": 6,
   "id": "8474d0af-42f8-4791-9320-553b12a6eebd",
   "metadata": {
    "tags": []
   },
   "outputs": [],
   "source": [
    "analysis_period = slice('1970-01-01', '2020-12-31')"
   ]
  },
  {
   "cell_type": "code",
   "execution_count": 11,
   "id": "fb558b8c-4566-4d14-86f0-560292f5e41d",
   "metadata": {
    "tags": []
   },
   "outputs": [],
   "source": [
    "cmap = 'bwr'\n",
    "norm = colors.TwoSlopeNorm(vmin=-0.8, vcenter=0, vmax=0.8)"
   ]
  },
  {
   "cell_type": "markdown",
   "id": "5eae5157-5765-4fd5-8ec1-72abf2cb298f",
   "metadata": {},
   "source": [
    "# Tmax"
   ]
  },
  {
   "cell_type": "code",
   "execution_count": 10,
   "id": "80f66cc4-c2c7-4233-b9e4-0b3f73cb1358",
   "metadata": {
    "tags": []
   },
   "outputs": [],
   "source": [
    "for model in model_list:\n",
    "    fig, axs = plt.subplots(ncols=3, figsize=(18, 6), subplot_kw={'projection': ccrs.PlateCarree()})\n",
    "\n",
    "    for axi, experiment in enumerate(experiment_list):\n",
    "        tmax_da = xr.open_dataarray(f'/home/disk/p/pangulo/CATER-Project/HeatWave_Statistics/Data/{model}_{experiment}_koreaTmax.nc').sel(time=analysis_period)\n",
    "        JA_tmax = tmax_da.where(tmax_da.time.dt.month.isin([7,8])).dropna('time').resample(time='1Y').mean()\n",
    "        rlut_da = xr.open_dataarray(f'/home/disk/p/pangulo/CATER-Project/HeatWave_Statistics/Data/{model}_{experiment}_rlut.nc').sel(time=analysis_period)\n",
    "        JA_rlut = rlut_da.where(rlut_da.time.dt.month.isin([7,8])).dropna('time').resample(time='1Y').mean()\n",
    "        \n",
    "        pearson_r = xr.corr(JA_rlut, JA_tmax, dim='time')\n",
    "        dof = JA_rlut.time.size - 2\n",
    "        alpha_95 = 0.05\n",
    "        tc_95 = stats.t.ppf(1 - alpha_95/2, dof)\n",
    "        rc_95 = tc_95/np.sqrt(dof+tc_95**2)\n",
    "        alpha_99 = 0.01\n",
    "        tc_99 = stats.t.ppf(1 - alpha_99/2, dof)\n",
    "        rc_99 = tc_99/np.sqrt(dof+tc_99**2)\n",
    "\n",
    "        ax = axs[axi]\n",
    "        c = ax.pcolormesh(pearson_r.lon, pearson_r.lat, pearson_r, transform=ccrs.PlateCarree(), cmap=cmap, norm=norm)\n",
    "        \n",
    "        sig_95 = (abs(pearson_r)>rc_95)\n",
    "        sig_99 = (abs(pearson_r)>rc_99)\n",
    "        lon_mesh, lat_mesh = np.meshgrid(pearson_r.lon, pearson_r.lat)\n",
    "        ax.scatter(lon_mesh[np.where(sig_95)], lat_mesh[np.where(sig_95)], marker='.', s=1, color='green', transform=ccrs.PlateCarree())\n",
    "        ax.scatter(lon_mesh[np.where(sig_99)], lat_mesh[np.where(sig_99)], marker='.', s=4, color='green', transform=ccrs.PlateCarree())\n",
    "        \n",
    "        ax.add_feature(cfeature.COASTLINE)\n",
    "        ax.set_extent([30, 180, 0, 60], crs=ccrs.PlateCarree())\n",
    "        gl = ax.gridlines(crs=ccrs.PlateCarree(), draw_labels=True, linewidth=2, color='grey', alpha=0.8, linestyle='-')\n",
    "        gl.bottom_labels = True\n",
    "        gl.right_labels = False\n",
    "        gl.xformatter = LONGITUDE_FORMATTER\n",
    "        gl.yformatter = LATITUDE_FORMATTER\n",
    "        gl.xlabel_style = {'rotation': 45}\n",
    "        \n",
    "        ax.set_title(experiment)\n",
    "    fig.suptitle(model, y=0.75)\n",
    "    cb = fig.colorbar(c, ax=axs, shrink=0.8, orientation='horizontal')\n",
    "    cb.ax.set_title('JA $T_{max}$ and OLR Correlation')\n",
    "    plt.savefig(f'/home/disk/p/pangulo/CATER-Project/HeatWave_Statistics/JA_Tmax_OLR_Corr_Maps/{model}_comparison.png', bbox_inches='tight')\n",
    "    plt.close()"
   ]
  },
  {
   "cell_type": "markdown",
   "id": "64392933-f0e6-436d-bd08-63222178efe0",
   "metadata": {},
   "source": [
    "# Num HWs"
   ]
  },
  {
   "cell_type": "code",
   "execution_count": 14,
   "id": "ebe717b1-4557-4ad7-adac-bfdcd0b02f4e",
   "metadata": {
    "tags": []
   },
   "outputs": [],
   "source": [
    "for model in model_list:\n",
    "    fig, axs = plt.subplots(ncols=3, figsize=(18, 6), subplot_kw={'projection': ccrs.PlateCarree()})\n",
    "\n",
    "    for axi, experiment in enumerate(experiment_list):\n",
    "        tmax_da = xr.open_dataarray(f'/home/disk/p/pangulo/CATER-Project/HeatWave_Statistics/Data/{model}_{experiment}_numKoreaHWs.nc').sel(year=analysis_period)\n",
    "        JA_tmax = tmax_da.rename(year='time').resample(time='1Y').mean() #tmax_da.where(tmax_da.time.dt.month.isin([7,8])).dropna('time').resample(time='1Y').mean()\n",
    "        rlut_da = xr.open_dataarray(f'/home/disk/p/pangulo/CATER-Project/HeatWave_Statistics/Data/{model}_{experiment}_rlut.nc').sel(time=analysis_period)\n",
    "        JA_rlut = rlut_da.where(rlut_da.time.dt.month.isin([7,8])).dropna('time').resample(time='1Y').mean()\n",
    "        \n",
    "        pearson_r = xr.corr(JA_rlut, JA_tmax, dim='time')\n",
    "        dof = JA_rlut.time.size - 2\n",
    "        alpha_95 = 0.05\n",
    "        tc_95 = stats.t.ppf(1 - alpha_95/2, dof)\n",
    "        rc_95 = tc_95/np.sqrt(dof+tc_95**2)\n",
    "        alpha_99 = 0.01\n",
    "        tc_99 = stats.t.ppf(1 - alpha_99/2, dof)\n",
    "        rc_99 = tc_99/np.sqrt(dof+tc_99**2)\n",
    "\n",
    "        ax = axs[axi]\n",
    "        c = ax.pcolormesh(pearson_r.lon, pearson_r.lat, pearson_r, transform=ccrs.PlateCarree(), cmap=cmap, norm=norm)\n",
    "        \n",
    "        sig_95 = (abs(pearson_r)>rc_95)\n",
    "        sig_99 = (abs(pearson_r)>rc_99)\n",
    "        lon_mesh, lat_mesh = np.meshgrid(pearson_r.lon, pearson_r.lat)\n",
    "        ax.scatter(lon_mesh[np.where(sig_95)], lat_mesh[np.where(sig_95)], marker='.', s=1, color='green', transform=ccrs.PlateCarree())\n",
    "        ax.scatter(lon_mesh[np.where(sig_99)], lat_mesh[np.where(sig_99)], marker='.', s=4, color='green', transform=ccrs.PlateCarree())\n",
    "        \n",
    "        ax.add_feature(cfeature.COASTLINE)\n",
    "        ax.set_extent([30, 180, 0, 60], crs=ccrs.PlateCarree())\n",
    "        gl = ax.gridlines(crs=ccrs.PlateCarree(), draw_labels=True, linewidth=2, color='grey', alpha=0.8, linestyle='-')\n",
    "        gl.bottom_labels = True\n",
    "        gl.right_labels = False\n",
    "        gl.xformatter = LONGITUDE_FORMATTER\n",
    "        gl.yformatter = LATITUDE_FORMATTER\n",
    "        gl.xlabel_style = {'rotation': 45}\n",
    "        \n",
    "        ax.set_title(experiment)\n",
    "    fig.suptitle(model, y=0.8)\n",
    "    cb = fig.colorbar(c, ax=axs, shrink=0.8, orientation='horizontal')\n",
    "    cb.ax.set_title('JA $N_{HW}$ and OLR Correlation')\n",
    "    \n",
    "    plt.savefig(f'/home/disk/p/pangulo/CATER-Project/HeatWave_Statistics/JA_NHW_OLR_Corr_Maps/{model}_comparison.png', bbox_inches='tight')\n",
    "    plt.close()"
   ]
  },
  {
   "cell_type": "markdown",
   "id": "92d3428b-a450-4a91-9317-b79efe372a1c",
   "metadata": {},
   "source": [
    "# Num HW Days"
   ]
  },
  {
   "cell_type": "code",
   "execution_count": 13,
   "id": "a204defc-ff12-4242-9a48-7c9dec04d2ca",
   "metadata": {
    "tags": []
   },
   "outputs": [],
   "source": [
    "for model in model_list:\n",
    "    fig, axs = plt.subplots(ncols=3, figsize=(18, 6), subplot_kw={'projection': ccrs.PlateCarree()})\n",
    "\n",
    "    for axi, experiment in enumerate(experiment_list):\n",
    "        tmax_da = xr.open_dataarray(f'/home/disk/p/pangulo/CATER-Project/HeatWave_Statistics/Data/{model}_{experiment}_Korea_HW_days.nc').sel(year=analysis_period)\n",
    "        JA_tmax = tmax_da.rename(year='time').resample(time='1Y').mean() #tmax_da.where(tmax_da.time.dt.month.isin([7,8])).dropna('time').resample(time='1Y').mean()\n",
    "        rlut_da = xr.open_dataarray(f'/home/disk/p/pangulo/CATER-Project/HeatWave_Statistics/Data/{model}_{experiment}_rlut.nc').sel(time=analysis_period)\n",
    "        JA_rlut = rlut_da.where(rlut_da.time.dt.month.isin([7,8])).dropna('time').resample(time='1Y').mean()\n",
    "        \n",
    "        pearson_r = xr.corr(JA_rlut, JA_tmax, dim='time')\n",
    "        dof = JA_rlut.time.size - 2\n",
    "        alpha_95 = 0.05\n",
    "        tc_95 = stats.t.ppf(1 - alpha_95/2, dof)\n",
    "        rc_95 = tc_95/np.sqrt(dof+tc_95**2)\n",
    "        alpha_99 = 0.01\n",
    "        tc_99 = stats.t.ppf(1 - alpha_99/2, dof)\n",
    "        rc_99 = tc_99/np.sqrt(dof+tc_99**2)\n",
    "\n",
    "        ax = axs[axi]\n",
    "        c = ax.pcolormesh(pearson_r.lon, pearson_r.lat, pearson_r, transform=ccrs.PlateCarree(), cmap=cmap, norm=norm)\n",
    "        \n",
    "        sig_95 = (abs(pearson_r)>rc_95)\n",
    "        sig_99 = (abs(pearson_r)>rc_99)\n",
    "        lon_mesh, lat_mesh = np.meshgrid(pearson_r.lon, pearson_r.lat)\n",
    "        ax.scatter(lon_mesh[np.where(sig_95)], lat_mesh[np.where(sig_95)], marker='.', s=1, color='green', transform=ccrs.PlateCarree())\n",
    "        ax.scatter(lon_mesh[np.where(sig_99)], lat_mesh[np.where(sig_99)], marker='.', s=4, color='green', transform=ccrs.PlateCarree())\n",
    "        \n",
    "        ax.add_feature(cfeature.COASTLINE)\n",
    "        ax.set_extent([30, 180, 0, 60], crs=ccrs.PlateCarree())\n",
    "        gl = ax.gridlines(crs=ccrs.PlateCarree(), draw_labels=True, linewidth=2, color='grey', alpha=0.8, linestyle='-')\n",
    "        gl.bottom_labels = True\n",
    "        gl.right_labels = False\n",
    "        gl.xformatter = LONGITUDE_FORMATTER\n",
    "        gl.yformatter = LATITUDE_FORMATTER\n",
    "        gl.xlabel_style = {'rotation': 45}\n",
    "        \n",
    "        ax.set_title(experiment)\n",
    "    fig.suptitle(model, y=0.8)\n",
    "    cb = fig.colorbar(c, ax=axs, shrink=0.8, orientation='horizontal')\n",
    "    cb.ax.set_title('JA No. HW Days and OLR Correlation')\n",
    "    \n",
    "    plt.savefig(f'/home/disk/p/pangulo/CATER-Project/HeatWave_Statistics/JA_NumHWDays_OLR_Corr_Maps/{model}_comparison.png', bbox_inches='tight')\n",
    "    plt.close()"
   ]
  },
  {
   "cell_type": "code",
   "execution_count": null,
   "id": "23645d05-2cf0-45a0-9698-cab065a4b555",
   "metadata": {},
   "outputs": [],
   "source": []
  }
 ],
 "metadata": {
  "kernelspec": {
   "display_name": "Python 3 (ipykernel)",
   "language": "python",
   "name": "python3"
  },
  "language_info": {
   "codemirror_mode": {
    "name": "ipython",
    "version": 3
   },
   "file_extension": ".py",
   "mimetype": "text/x-python",
   "name": "python",
   "nbconvert_exporter": "python",
   "pygments_lexer": "ipython3",
   "version": "3.9.2"
  }
 },
 "nbformat": 4,
 "nbformat_minor": 5
}
