{
 "cells": [
  {
   "cell_type": "markdown",
   "id": "201ccf68-3d07-411d-b794-481a34347d33",
   "metadata": {},
   "source": [
    "# Documentation\n",
    "\n",
    "**Calculate Summer Anomalies from CMIP6 Data** \n",
    "\n",
    "**Spencer Ressel & Pedro Angulo Umaña**\n",
    "\n",
    "April 4th, 2023\n",
    "\n",
    "This notebook analyzes data from the Detection and Attribution Model Intercomparison Project (DAMIP): https://www.wcrp-climate.org/modelling-wgcm-mip-catalogue/cmip6-endorsed-mips-article/1062-modelling-cmip6-damip\n",
    "\n",
    "Specifically, daily maximum temperature, outgoing longwave radiation (OLR), and sea surface temperatures (SST) are used to study the effects of climate change on heat waves over the Korean peninsula. This work is part of the CATER project.\n"
   ]
  },
  {
   "cell_type": "markdown",
   "id": "674b3cf6-8fa1-48cc-a76e-f9840ffc8a7c",
   "metadata": {},
   "source": [
    "# Imports"
   ]
  },
  {
   "cell_type": "code",
   "execution_count": 6,
   "id": "e2a09a33-af8d-404e-a5be-480ee524f429",
   "metadata": {},
   "outputs": [],
   "source": [
    "import os\n",
    "import xarray as xr\n",
    "import numpy as np\n",
    "import matplotlib.pyplot as plt"
   ]
  },
  {
   "cell_type": "markdown",
   "id": "25bf1d18-378b-4d8f-8cb2-af87ce3dda36",
   "metadata": {},
   "source": [
    "# Specify models, experiments, and variables"
   ]
  },
  {
   "cell_type": "code",
   "execution_count": 117,
   "id": "7a4c867c-bf66-4a97-9041-f77afc3aa206",
   "metadata": {},
   "outputs": [],
   "source": [
    "# models_list = ['ACCESS-ESM1-5', 'CanESM5', 'IPSL-CM6A-LR', 'MIROC6', 'MRI-ESM2-0']\n",
    "models_list = ['ACCESS-ESM1-5', 'CanESM5', 'MIROC6', 'MRI-ESM2-0']\n",
    "experiments_list = ['historical', 'hist-nat', 'hist-GHG']\n",
    "\n",
    "korean_peninsula = dict(lat=slice(34, 38), lon=slice(125, 130))\n",
    "reference_period = dict(year=slice(1850,1950))"
   ]
  },
  {
   "cell_type": "markdown",
   "id": "54896aa2-cc45-4a25-ab25-d081c2fd034d",
   "metadata": {},
   "source": [
    "# Do calculation"
   ]
  },
  {
   "cell_type": "code",
   "execution_count": 125,
   "id": "3131cc7a-6839-49df-9f42-c926d6750f07",
   "metadata": {},
   "outputs": [
    {
     "ename": "ValueError",
     "evalue": "cannot add coordinates with new dimensions to a DataArray",
     "output_type": "error",
     "traceback": [
      "\u001b[0;31m---------------------------------------------------------------------------\u001b[0m",
      "\u001b[0;31mValueError\u001b[0m                                Traceback (most recent call last)",
      "\u001b[0;32m<ipython-input-125-7f7ab528c2b8>\u001b[0m in \u001b[0;36m<module>\u001b[0;34m\u001b[0m\n\u001b[1;32m     39\u001b[0m                     \u001b[0mj_lat\u001b[0m \u001b[0;34m=\u001b[0m \u001b[0mtemperature_data\u001b[0m\u001b[0;34m.\u001b[0m\u001b[0mlatitude\u001b[0m\u001b[0;34m[\u001b[0m\u001b[0;34m:\u001b[0m\u001b[0;34m,\u001b[0m\u001b[0;36m0\u001b[0m\u001b[0;34m]\u001b[0m\u001b[0;34m.\u001b[0m\u001b[0msqueeze\u001b[0m\u001b[0;34m(\u001b[0m\u001b[0;34m)\u001b[0m\u001b[0;34m.\u001b[0m\u001b[0mdata\u001b[0m\u001b[0;34m\u001b[0m\u001b[0;34m\u001b[0m\u001b[0m\n\u001b[1;32m     40\u001b[0m                     \u001b[0mi_lon\u001b[0m \u001b[0;34m=\u001b[0m \u001b[0mtemperature_data\u001b[0m\u001b[0;34m.\u001b[0m\u001b[0mlongitude\u001b[0m\u001b[0;34m[\u001b[0m\u001b[0;36m0\u001b[0m\u001b[0;34m,\u001b[0m\u001b[0;34m:\u001b[0m\u001b[0;34m]\u001b[0m\u001b[0;34m.\u001b[0m\u001b[0msqueeze\u001b[0m\u001b[0;34m(\u001b[0m\u001b[0;34m)\u001b[0m\u001b[0;34m.\u001b[0m\u001b[0mdata\u001b[0m\u001b[0;34m\u001b[0m\u001b[0;34m\u001b[0m\u001b[0m\n\u001b[0;32m---> 41\u001b[0;31m                     \u001b[0mtemperature_data\u001b[0m \u001b[0;34m=\u001b[0m \u001b[0mtemperature_data\u001b[0m\u001b[0;34m.\u001b[0m\u001b[0mrename\u001b[0m\u001b[0;34m(\u001b[0m\u001b[0;34m{\u001b[0m\u001b[0;34m'longitude'\u001b[0m\u001b[0;34m:\u001b[0m \u001b[0;34m'lon'\u001b[0m\u001b[0;34m,\u001b[0m \u001b[0;34m'latitude'\u001b[0m\u001b[0;34m:\u001b[0m \u001b[0;34m'lat'\u001b[0m\u001b[0;34m}\u001b[0m\u001b[0;34m)\u001b[0m\u001b[0;34m.\u001b[0m\u001b[0massign_coords\u001b[0m\u001b[0;34m(\u001b[0m\u001b[0;34m{\u001b[0m\u001b[0;34m'lon'\u001b[0m\u001b[0;34m:\u001b[0m \u001b[0mi_lon\u001b[0m\u001b[0;34m,\u001b[0m \u001b[0;34m'lat'\u001b[0m\u001b[0;34m:\u001b[0m \u001b[0mj_lat\u001b[0m\u001b[0;34m}\u001b[0m\u001b[0;34m)\u001b[0m\u001b[0;34m.\u001b[0m\u001b[0msortby\u001b[0m\u001b[0;34m(\u001b[0m\u001b[0;34m'lon'\u001b[0m\u001b[0;34m)\u001b[0m\u001b[0;34m\u001b[0m\u001b[0;34m\u001b[0m\u001b[0m\n\u001b[0m\u001b[1;32m     42\u001b[0m \u001b[0;34m\u001b[0m\u001b[0m\n\u001b[1;32m     43\u001b[0m \u001b[0;34m\u001b[0m\u001b[0m\n",
      "\u001b[0;32m~/.local/lib/python3.6/site-packages/xarray/core/common.py\u001b[0m in \u001b[0;36massign_coords\u001b[0;34m(self, coords, **coords_kwargs)\u001b[0m\n\u001b[1;32m    470\u001b[0m         \u001b[0mdata\u001b[0m \u001b[0;34m=\u001b[0m \u001b[0mself\u001b[0m\u001b[0;34m.\u001b[0m\u001b[0mcopy\u001b[0m\u001b[0;34m(\u001b[0m\u001b[0mdeep\u001b[0m\u001b[0;34m=\u001b[0m\u001b[0;32mFalse\u001b[0m\u001b[0;34m)\u001b[0m\u001b[0;34m\u001b[0m\u001b[0;34m\u001b[0m\u001b[0m\n\u001b[1;32m    471\u001b[0m         \u001b[0mresults\u001b[0m \u001b[0;34m=\u001b[0m \u001b[0mself\u001b[0m\u001b[0;34m.\u001b[0m\u001b[0m_calc_assign_results\u001b[0m\u001b[0;34m(\u001b[0m\u001b[0mcoords_kwargs\u001b[0m\u001b[0;34m)\u001b[0m\u001b[0;34m\u001b[0m\u001b[0;34m\u001b[0m\u001b[0m\n\u001b[0;32m--> 472\u001b[0;31m         \u001b[0mdata\u001b[0m\u001b[0;34m.\u001b[0m\u001b[0mcoords\u001b[0m\u001b[0;34m.\u001b[0m\u001b[0mupdate\u001b[0m\u001b[0;34m(\u001b[0m\u001b[0mresults\u001b[0m\u001b[0;34m)\u001b[0m\u001b[0;34m\u001b[0m\u001b[0;34m\u001b[0m\u001b[0m\n\u001b[0m\u001b[1;32m    473\u001b[0m         \u001b[0;32mreturn\u001b[0m \u001b[0mdata\u001b[0m\u001b[0;34m\u001b[0m\u001b[0;34m\u001b[0m\u001b[0m\n\u001b[1;32m    474\u001b[0m \u001b[0;34m\u001b[0m\u001b[0m\n",
      "\u001b[0;32m~/.local/lib/python3.6/site-packages/xarray/core/coordinates.py\u001b[0m in \u001b[0;36mupdate\u001b[0;34m(self, other)\u001b[0m\n\u001b[1;32m    116\u001b[0m             \u001b[0;34m[\u001b[0m\u001b[0mself\u001b[0m\u001b[0;34m.\u001b[0m\u001b[0mvariables\u001b[0m\u001b[0;34m,\u001b[0m \u001b[0mother_vars\u001b[0m\u001b[0;34m]\u001b[0m\u001b[0;34m,\u001b[0m \u001b[0mpriority_arg\u001b[0m\u001b[0;34m=\u001b[0m\u001b[0;36m1\u001b[0m\u001b[0;34m,\u001b[0m \u001b[0mindexes\u001b[0m\u001b[0;34m=\u001b[0m\u001b[0mself\u001b[0m\u001b[0;34m.\u001b[0m\u001b[0mindexes\u001b[0m\u001b[0;34m\u001b[0m\u001b[0;34m\u001b[0m\u001b[0m\n\u001b[1;32m    117\u001b[0m         )\n\u001b[0;32m--> 118\u001b[0;31m         \u001b[0mself\u001b[0m\u001b[0;34m.\u001b[0m\u001b[0m_update_coords\u001b[0m\u001b[0;34m(\u001b[0m\u001b[0mcoords\u001b[0m\u001b[0;34m,\u001b[0m \u001b[0mindexes\u001b[0m\u001b[0;34m)\u001b[0m\u001b[0;34m\u001b[0m\u001b[0;34m\u001b[0m\u001b[0m\n\u001b[0m\u001b[1;32m    119\u001b[0m \u001b[0;34m\u001b[0m\u001b[0m\n\u001b[1;32m    120\u001b[0m     \u001b[0;32mdef\u001b[0m \u001b[0m_merge_raw\u001b[0m\u001b[0;34m(\u001b[0m\u001b[0mself\u001b[0m\u001b[0;34m,\u001b[0m \u001b[0mother\u001b[0m\u001b[0;34m)\u001b[0m\u001b[0;34m:\u001b[0m\u001b[0;34m\u001b[0m\u001b[0;34m\u001b[0m\u001b[0m\n",
      "\u001b[0;32m~/.local/lib/python3.6/site-packages/xarray/core/coordinates.py\u001b[0m in \u001b[0;36m_update_coords\u001b[0;34m(self, coords, indexes)\u001b[0m\n\u001b[1;32m    293\u001b[0m         \u001b[0;32mif\u001b[0m \u001b[0;32mnot\u001b[0m \u001b[0mset\u001b[0m\u001b[0;34m(\u001b[0m\u001b[0mdims\u001b[0m\u001b[0;34m)\u001b[0m \u001b[0;34m<=\u001b[0m \u001b[0mset\u001b[0m\u001b[0;34m(\u001b[0m\u001b[0mself\u001b[0m\u001b[0;34m.\u001b[0m\u001b[0mdims\u001b[0m\u001b[0;34m)\u001b[0m\u001b[0;34m:\u001b[0m\u001b[0;34m\u001b[0m\u001b[0;34m\u001b[0m\u001b[0m\n\u001b[1;32m    294\u001b[0m             raise ValueError(\n\u001b[0;32m--> 295\u001b[0;31m                 \u001b[0;34m\"cannot add coordinates with new dimensions to a DataArray\"\u001b[0m\u001b[0;34m\u001b[0m\u001b[0;34m\u001b[0m\u001b[0m\n\u001b[0m\u001b[1;32m    296\u001b[0m             )\n\u001b[1;32m    297\u001b[0m         \u001b[0mself\u001b[0m\u001b[0;34m.\u001b[0m\u001b[0m_data\u001b[0m\u001b[0;34m.\u001b[0m\u001b[0m_coords\u001b[0m \u001b[0;34m=\u001b[0m \u001b[0mcoords\u001b[0m\u001b[0;34m\u001b[0m\u001b[0;34m\u001b[0m\u001b[0m\n",
      "\u001b[0;31mValueError\u001b[0m: cannot add coordinates with new dimensions to a DataArray"
     ]
    }
   ],
   "source": [
    "variable = 'tos'\n",
    "models_list = ['MIROC6']\n",
    "\n",
    "from glob import glob\n",
    "import xarray as xr\n",
    "for model in models_list:\n",
    "        for exp in experiments_list:\n",
    "            # Set the directory\n",
    "            os.chdir('/home/disk/tc/pangulo/CMIP6/' + model)\n",
    "            \n",
    "            # Load the data\n",
    "            file_name = sorted(glob('./' + exp + '/compiled_' + variable + '_*.nc'))[0]\n",
    "            [\n",
    "                variable, \n",
    "                frequency, \n",
    "                model_name, \n",
    "                experiment, \n",
    "                variant, \n",
    "                grid, \n",
    "                period\n",
    "            ] = file_name.split('/')[-1].split('.nc')[0].split('_')[1:]\n",
    "            \n",
    "            temperature_data = xr.open_dataset(file_name)[variable]\n",
    "            \n",
    "            if variable == 'tos':\n",
    "                if model == 'IPSL-CM6A-LR':\n",
    "                    j_lat = temperature_data.nav_lat[0].squeeze().data\n",
    "                    i_lon = temperature_data.nav_lon[:,0].squeeze().data\n",
    "                    temperature_data = temperature_data.rename({'nav_lon': 'lon', 'nav_lat': 'lat'}).assign_coords({'lon': i_lon, 'lat': j_lat}).sortby('lon')\n",
    "                elif model == 'ACCESS-ESM1-5':\n",
    "                    j_lat = temperature_data.latitude[:,0].squeeze().data\n",
    "                    i_lon = temperature_data.longitude[0,:].squeeze().data\n",
    "                    temperature_data = temperature_data.rename({'i': 'lon', 'j': 'lat'}).assign_coords({'lon': i_lon, 'lat': j_lat}).sortby('lon')\n",
    "                elif model == 'CanESM5':\n",
    "                    j_lat = temperature_data.latitude[:,0].squeeze().data\n",
    "                    i_lon = temperature_data.longitude[0,:].squeeze().data\n",
    "                    temperature_data = temperature_data.rename({'i': 'lon', 'j': 'lat'}).assign_coords({'lon': i_lon, 'lat': j_lat}).sortby('lon')\n",
    "                elif model == 'MIROC6':\n",
    "                    j_lat = temperature_data.latitude[:,0].squeeze().data\n",
    "                    i_lon = temperature_data.longitude[0,:].squeeze().data\n",
    "                    temperature_data = temperature_data.rename({'longitude': 'lon', 'latitude': 'lat'}).assign_coords({'lon': i_lon, 'lat': j_lat}).sortby('lon')\n",
    "                \n",
    "            # Subset the data to fit the Korean peninsula \n",
    "            daily_maximum_temperature_korea = temperature_data.sel(korean_peninsula).mean(dim=['lat', 'lon'])\n",
    "            \n",
    "            # Compute the mean summer temperature for each year\n",
    "            summer_mean_max_temperature_by_year = daily_maximum_temperature_korea.sel(\n",
    "                time=daily_maximum_temperature_korea['time.month'].isin([7,8])\n",
    "            ).groupby('time.year').mean()\n",
    "            \n",
    "            # Compute the mean temperature of the reference period\n",
    "            reference_period_mean_temperature = summer_mean_max_temperature_by_year.sel(reference_period).mean()\n",
    "            \n",
    "            # Compute anomalies from reference period\n",
    "            summer_temperature_anomalies = summer_mean_max_temperature_by_year - reference_period_mean_temperature\n",
    "            \n",
    "            # Create new file to save temperature anomalies\n",
    "            new_file_name = (\n",
    "                variable\n",
    "                + '_anomalies-' + str(reference_period['year'].start) + '-' + str(reference_period['year'].stop)\n",
    "                + '_' + frequency \n",
    "                + '_' + model \n",
    "                + '_' + exp\n",
    "                + '_' + variant \n",
    "                + '_' + grid\n",
    "                + '_' + period\n",
    "                + '.nc'\n",
    "            )\n",
    "            \n",
    "            # Save output to netCDF\n",
    "            print(new_file_name)\n",
    "            summer_temperature_anomalies.to_netcdf('./' + exp + '/' + new_file_name)\n",
    "            "
   ]
  },
  {
   "cell_type": "code",
   "execution_count": 89,
   "id": "30a37a55-d8ea-4c50-8922-25aae71021f9",
   "metadata": {},
   "outputs": [],
   "source": [
    "new_file_name = (\n",
    "    variable\n",
    "    + '_anomalies-' + str(reference_period['year'].start) + '-' + str(reference_period['year'].stop)\n",
    "    + '_' + frequency \n",
    "    + '_' + model \n",
    "    + '_' + exp\n",
    "    + '_' + variant \n",
    "    + '_' + grid\n",
    "    + '_' + period\n",
    "    + '.nc'\n",
    ")"
   ]
  },
  {
   "cell_type": "code",
   "execution_count": 122,
   "id": "cd906a69-b020-4d7c-b424-1bcc11f3d04e",
   "metadata": {},
   "outputs": [
    {
     "data": {
      "text/plain": [
       "<matplotlib.collections.QuadMesh at 0x7fcb3a921630>"
      ]
     },
     "execution_count": 122,
     "metadata": {},
     "output_type": "execute_result"
    },
    {
     "data": {
      "image/png": "[encoded data removed]",
      "text/plain": [
       "<Figure size 432x288 with 2 Axes>"
      ]
     },
     "metadata": {
      "needs_background": "light"
     },
     "output_type": "display_data"
    }
   ],
   "source": [
    "temperature_data.latitude.plot()"
   ]
  },
  {
   "cell_type": "markdown",
   "id": "c1372578-301d-478d-8ea6-3375e8b41358",
   "metadata": {},
   "source": [
    "# Plot temperature anomalies"
   ]
  },
  {
   "cell_type": "code",
   "execution_count": 40,
   "id": "e942eeb5-488a-4adc-bd33-ddb4b2bf6f5b",
   "metadata": {},
   "outputs": [
    {
     "name": "stdout",
     "output_type": "stream",
     "text": [
      "/home/disk/tc/pangulo/CMIP6/ACCESS-ESM1-5\n",
      "/home/disk/tc/pangulo/CMIP6/CanESM5\n",
      "/home/disk/tc/pangulo/CMIP6/IPSL-CM6A-LR\n",
      "/home/disk/tc/pangulo/CMIP6/MIROC6\n",
      "/home/disk/tc/pangulo/CMIP6/MRI-ESM2-0\n"
     ]
    }
   ],
   "source": [
    "# models_list = ['ACCESS-ESM1-5']\n",
    "\n",
    "plt.style.use('bmh')\n",
    "plt.rcParams.update({'font.size':22})\n",
    "\n",
    "for model in models_list:\n",
    "    temperature_anomalies = {}\n",
    "    for exp in experiments_list:\n",
    "        # Set the directory\n",
    "        os.chdir('/home/disk/tc/pangulo/CMIP6/' + model + '/' + exp)\n",
    "        file_name = sorted(glob('tasmax_anomalies*.nc'))[0]\n",
    "        [\n",
    "            variable, \n",
    "            reference_period,\n",
    "            frequency, \n",
    "            model_name, \n",
    "            experiment, \n",
    "            variant, \n",
    "            grid, \n",
    "            period\n",
    "        ] = file_name.split('.nc')[0].split('_')\n",
    "        temperature_anomalies[model + '_' + exp] = xr.open_dataset(file_name)['tasmax']\n",
    "\n",
    "    [fig, ax] = plt.subplots(figsize=(16,9))\n",
    "    ax.plot(\n",
    "        temperature_anomalies[model + '_historical'].year, \n",
    "        temperature_anomalies[model + '_historical'],\n",
    "        color='#348ABD',\n",
    "        label='historical'\n",
    "    )\n",
    "    \n",
    "    ax.plot(\n",
    "        temperature_anomalies[model + '_hist-nat'].year, \n",
    "        temperature_anomalies[model + '_hist-nat'],\n",
    "        color='#A60628',\n",
    "        label='hist-nat'\n",
    "    )\n",
    "    \n",
    "    ax.plot(\n",
    "        temperature_anomalies[model + '_hist-GHG'].year, \n",
    "        temperature_anomalies[model + '_hist-GHG'],\n",
    "        color='#7A68A6',\n",
    "        label='hist-GHG'\n",
    "    )\n",
    "    ax.axhline(y=0, color='gray', alpha=0.5, ls='--')\n",
    "    \n",
    "    ax.legend(loc='upper left')\n",
    "    ax.set_title(model + ', JA T-2m anomalies from ' + reference_period.split('-')[1] + '-' + reference_period.split('-')[2])\n",
    "    ax.set_ylabel('°C')\n",
    "    ax.set_xlabel('year')\n",
    "    # ax.set_xlim(1950, 2022)\n",
    "    # ax.set_aspect(50)\n",
    "     \n",
    "    # plt.show()\n",
    "    \n",
    "    os.chdir('/home/disk/tc/pangulo/CMIP6/' + model + '/')\n",
    "    print(os.getcwd())\n",
    "    picture_save_name = (\n",
    "        'tasmax_anomalies-' \n",
    "        + str(reference_period.split('-')[1]) + '-' + str(reference_period.split('-')[2])\n",
    "        + '_' + frequency \n",
    "        + '_' + model \n",
    "        + '.png'\n",
    "    )\n",
    "    \n",
    "    plt.tight_layout(w_pad=5)\n",
    "    plt.savefig(picture_save_name, dpi=400, format='png', bbox_inches='tight')\n",
    "    plt.close()\n"
   ]
  },
  {
   "cell_type": "code",
   "execution_count": 33,
   "id": "27d38f66-4477-42cf-a5e1-d9fab7067005",
   "metadata": {},
   "outputs": [
    {
     "data": {
      "text/plain": [
       "'tasmax_anomalies-1850-1950_day_MRI-ESM2-0.png'"
      ]
     },
     "execution_count": 33,
     "metadata": {},
     "output_type": "execute_result"
    }
   ],
   "source": [
    "os.chdir('/home/disk/tc/pangulo/CMIP6/' + model + '/')\n",
    "picture_save_name = (\n",
    "    'tasmax_anomalies-' \n",
    "    + str(reference_period.split('-')[1]) + '-' + str(reference_period.split('-')[2])\n",
    "    + '_' + frequency \n",
    "    + '_' + model \n",
    "    + '.png'\n",
    ")\n",
    " \n",
    "picture_save_name"
   ]
  },
  {
   "cell_type": "code",
   "execution_count": null,
   "id": "605f984c-c3e1-464b-ba0c-34edaf391d36",
   "metadata": {},
   "outputs": [],
   "source": []
  }
 ],
 "metadata": {
  "kernelspec": {
   "display_name": "Python 3",
   "language": "python",
   "name": "python3"
  },
  "language_info": {
   "codemirror_mode": {
    "name": "ipython",
    "version": 3
   },
   "file_extension": ".py",
   "mimetype": "text/x-python",
   "name": "python",
   "nbconvert_exporter": "python",
   "pygments_lexer": "ipython3",
   "version": "3.6.8"
  }
 },
 "nbformat": 4,
 "nbformat_minor": 5
}
