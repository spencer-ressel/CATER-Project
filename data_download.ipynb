{
 "cells": [
  {
   "cell_type": "code",
   "execution_count": 2,
   "id": "f4b07e47-dd8d-43bb-bfbb-a17b4b0a36a6",
   "metadata": {
    "tags": []
   },
   "outputs": [],
   "source": [
    "import os\n",
    "import glob"
   ]
  },
  {
   "cell_type": "code",
   "execution_count": 3,
   "id": "a2e66d8c-7cb5-4bbc-a1bb-e78959103e12",
   "metadata": {
    "tags": []
   },
   "outputs": [
    {
     "data": {
      "text/plain": [
       "'/home/disk/p/sressel/CATER-Project'"
      ]
     },
     "execution_count": 3,
     "metadata": {},
     "output_type": "execute_result"
    }
   ],
   "source": [
    "os.getcwd()"
   ]
  },
  {
   "cell_type": "code",
   "execution_count": 32,
   "id": "0de8d7e8-159e-46be-a100-049cd35a8081",
   "metadata": {
    "tags": []
   },
   "outputs": [
    {
     "name": "stdout",
     "output_type": "stream",
     "text": [
      "ACCESS-ESM1-5\n",
      "historical\n",
      "['rlut_Amon_ACCESS-ESM1-5_historical_r1i1p1f1_gn_185001-201412.nc', 'compiled_rlut_Amon_ACCESS-ESM1-5_historical_r1i1p1f1_gn_185001-201412.nc']\n",
      "hist-GHG\n",
      "['rlut_Amon_ACCESS-ESM1-5_hist-GHG_r1i1p1f1_gn_185001-202012.nc', 'compiled_rlut_Amon_ACCESS-ESM1-5_hist-GHG_r1i1p1f1_gn_185001-202012.nc']\n",
      "hist-nat\n",
      "['rlut_Amon_ACCESS-ESM1-5_hist-nat_r1i1p1f1_gn_185001-202012.nc', 'compiled_rlut_Amon_ACCESS-ESM1-5_hist-nat_r1i1p1f1_gn_185001-202012.nc']\n",
      "CanESM5\n",
      "historical\n",
      "['rlut_Amon_CanESM5_historical_r1i1p1f1_gn_185001-201412.nc', 'compiled_rlut_Amon_CanESM5_historical_r1i1p1f1_gn_185001-201412.nc']\n",
      "hist-GHG\n",
      "['rlut_Amon_CanESM5_hist-GHG_r1i1p1f1_gn_185001-202012.nc', 'compiled_rlut_Amon_CanESM5_hist-GHG_r1i1p1f1_gn_185001-202012.nc']\n",
      "hist-nat\n",
      "['rlut_Amon_CanESM5_hist-nat_r1i1p1f1_gn_185001-202012.nc', 'compiled_rlut_Amon_CanESM5_hist-nat_r1i1p1f1_gn_185001-202012.nc']\n",
      "CNRM-CM6-1\n",
      "historical\n",
      "['rlut_Amon_CNRM-CM6-1_historical_r1i1p1f2_gr_185001-201412.nc', 'compiled_rlut_Amon_CNRM-CM6-1_historical_r1i1p1f2_gr_185001-201412.nc']\n",
      "hist-GHG\n",
      "['rlut_Amon_CNRM-CM6-1_hist-GHG_r1i1p1f2_gr_185001-202012.nc', 'compiled_rlut_Amon_CNRM-CM6-1_hist-GHG_r1i1p1f2_gr_185001-202012.nc']\n",
      "hist-nat\n",
      "['rlut_Amon_CNRM-CM6-1_hist-nat_r1i1p1f2_gr_185001-202012.nc', 'compiled_rlut_Amon_CNRM-CM6-1_hist-nat_r1i1p1f2_gr_185001-202012.nc']\n",
      "HadGEM3-GC31-LL\n",
      "historical\n",
      "['rlut_Amon_HadGEM3-GC31-LL_historical_r1i1p1f3_gn_185001-194912.nc', 'rlut_Amon_HadGEM3-GC31-LL_historical_r1i1p1f3_gn_195001-201412.nc', 'compiled_rlut_Amon_HadGEM3-GC31-LL_historical_r1i1p1f3_gn_185001-201412.nc']\n",
      "hist-GHG\n",
      "['rlut_Amon_HadGEM3-GC31-LL_hist-GHG_r1i1p1f3_gn_185001-194912.nc', 'rlut_Amon_HadGEM3-GC31-LL_hist-GHG_r1i1p1f3_gn_195001-202012.nc', 'compiled_rlut_Amon_HadGEM3-GC31-LL_hist-GHG_r1i1p1f3_gn_185001-202012.nc']\n",
      "hist-nat\n",
      "['rlut_Amon_CNRM-CM6-1_hist-nat_r1i1p1f2_gr_185001-202012.nc', 'compiled_rlut_Amon_CNRM-CM6-1_hist-nat_r1i1p1f2_gr_185001-202012.nc']\n",
      "IPSL-CM6A-LR\n",
      "historical\n",
      "['rlut_Amon_IPSL-CM6A-LR_historical_r1i1p1f1_gr_185001-201412.nc', 'compiled_rlut_Amon_IPSL-CM6A-LR_historical_r1i1p1f1_gr_185001-201412.nc']\n",
      "hist-GHG\n",
      "['rlut_Amon_IPSL-CM6A-LR_hist-GHG_r1i1p1f1_gr_185001-202012.nc', 'compiled_rlut_Amon_IPSL-CM6A-LR_hist-GHG_r1i1p1f1_gr_185001-202012.nc']\n",
      "hist-nat\n",
      "['rlut_Amon_IPSL-CM6A-LR_hist-nat_r1i1p1f1_gr_185001-202012.nc', 'compiled_rlut_Amon_IPSL-CM6A-LR_hist-nat_r1i1p1f1_gr_185001-202012.nc']\n",
      "MIROC6\n",
      "historical\n",
      "['rlut_Amon_MIROC6_historical_r1i1p1f1_gn_185001-194912.nc', 'rlut_Amon_MIROC6_historical_r1i1p1f1_gn_195001-201412.nc', 'compiled_rlut_Amon_MIROC6_historical_r1i1p1f1_gn_185001-201412.nc']\n",
      "hist-GHG\n",
      "['rlut_Amon_MIROC6_hist-GHG_r1i1p1f1_gn_185001-194912.nc', 'rlut_Amon_MIROC6_hist-GHG_r1i1p1f1_gn_195001-202012.nc', 'compiled_rlut_Amon_MIROC6_hist-GHG_r1i1p1f1_gn_185001-202012.nc']\n",
      "hist-nat\n",
      "['rlut_Amon_MIROC6_hist-nat_r1i1p1f1_gn_185001-194912.nc', 'rlut_Amon_MIROC6_hist-nat_r1i1p1f1_gn_195001-202012.nc', 'compiled_rlut_Amon_MIROC6_hist-nat_r1i1p1f1_gn_185001-202012.nc']\n",
      "MRI-ESM2-0\n",
      "historical\n",
      "['rlut_Amon_MRI-ESM2-0_historical_r1i1p1f1_gn_185001-201412.nc', 'compiled_rlut_Amon_MRI-ESM2-0_historical_r1i1p1f1_gn_185001-201412.nc']\n",
      "hist-GHG\n",
      "['rlut_Amon_MRI-ESM2-0_hist-GHG_r1i1p1f1_gn_185001-201412.nc', 'rlut_Amon_MRI-ESM2-0_hist-GHG_r1i1p1f1_gn_201501-202012.nc', 'compiled_rlut_Amon_MRI-ESM2-0_hist-GHG_r1i1p1f1_gn_185001-202012.nc']\n",
      "hist-nat\n",
      "['rlut_Amon_MRI-ESM2-0_hist-nat_r1i1p1f1_gn_185001-201412.nc', 'rlut_Amon_MRI-ESM2-0_hist-nat_r1i1p1f1_gn_201501-202012.nc', 'compiled_rlut_Amon_MRI-ESM2-0_hist-nat_r1i1p1f1_gn_185001-202012.nc']\n",
      "Finished\n"
     ]
    }
   ],
   "source": [
    "# # models_list = ['ACCESS-ESM1-5', 'CanESM5', 'CNRM-CM6-1', 'HadGEM3-GC31-LL', 'IPSL-CM6A-LR', 'MIROC6', 'MRI-ESM2-0']\n",
    "# # experiments_list = ['historical', 'hist-GHG', 'hist-nat']\n",
    "\n",
    "# models_list = ['CNRM-CM6-1', 'HadGEM3-GC31-LL']\n",
    "# experiments_list = ['historical', 'hist-GHG', 'hist-nat']\n",
    "\n",
    "# for model in models_list:\n",
    "#     print(model)\n",
    "#     for exp in experiments_list:\n",
    "#         os.chdir('/home/disk/tc/pangulo/CMIP6/' + model + '/' + exp)\n",
    "#         file_name_list = glob.glob('rlut_Amon*.nc')[0]\n",
    "#         [\n",
    "#         variable, \n",
    "#         frequency, \n",
    "#         model_name, \n",
    "#         experiment, \n",
    "#         variant, \n",
    "#         grid, \n",
    "#         period\n",
    "#         ] = file_name.split('.nc')[0].split('_')\n",
    "        \n",
    "# #         new_file_name = (\n",
    "# #             'compiled_' \n",
    "# #             + variable  + '_'\n",
    "# #             + frequency + '_'\n",
    "# #             + model_name  + '_'\n",
    "# #             + experiment + '_'\n",
    "# #             + variant + '_'\n",
    "# #             + grid + '_'\n",
    "# #             + '185001-202012.nc'\n",
    "# #         )\n",
    "#         # os.system('cdo mergetime rlut_Amon*.nc ' + new_file_name)\n",
    "#         file_name = glob.glob('*rlut_Amon*')\n",
    "#         print(exp)\n",
    "#         print(file_name)\n",
    "\n",
    "# print('Finished')"
   ]
  },
  {
   "cell_type": "code",
   "execution_count": 6,
   "id": "f3327241-09d9-4d51-91ba-ed6337fe5e32",
   "metadata": {},
   "outputs": [
    {
     "name": "stdout",
     "output_type": "stream",
     "text": [
      "finished\n"
     ]
    }
   ],
   "source": [
    "os.chdir('/home/disk/tc/pangulo/CMIP6/HadGEM3-GC31-LL/hist-nat/')\n",
    "os.system('cdo mergetime tos_Omon* compiled_tos_Omon_HadGEM3-GC31-LL_hist-nat_r1i1p1f3_gn_185001-202012.nc')\n",
    "os.system('cdo mergetime tasmax_day* compiled_tasmax_day_HadGEM3-GC31-LL_hist-nat_r1i1p1f3_gn_18500101-20201230.nc')\n",
    "print('finished')"
   ]
  },
  {
   "cell_type": "code",
   "execution_count": 19,
   "id": "ab824d67-3f29-4df4-8112-d6cb5dc5923b",
   "metadata": {},
   "outputs": [
    {
     "name": "stdout",
     "output_type": "stream",
     "text": [
      "HadGEM3-GC31-LL\n",
      "finished\n"
     ]
    }
   ],
   "source": [
    "# models_list = ['ACCESS-ESM1-5', 'CanESM5', 'CNRM-CM6-1', 'HadGEM3-GC31-LL', 'IPSL-CM6A-LR', 'MIROC6', 'MRI-ESM2-0']\n",
    "models_list = ['HadGEM3-GC31-LL']\n",
    "\n",
    "for model in models_list:\n",
    "    print(model)\n",
    "    os.chdir('/home/disk/tc/pangulo/CMIP6/' + model + '/ssp245')\n",
    "    \n",
    "    file_name = glob.glob('tasmax_day*.nc')[0]\n",
    "    [\n",
    "    variable, \n",
    "    frequency, \n",
    "    model_name, \n",
    "    experiment, \n",
    "    variant, \n",
    "    grid, \n",
    "    period\n",
    "    ] = file_name.split('.nc')[0].split('_')\n",
    "\n",
    "    new_file_name = (\n",
    "        'compiled_' \n",
    "        + variable  + '_'\n",
    "        + frequency + '_'\n",
    "        + model_name  + '_'\n",
    "        + experiment + '_'\n",
    "        + variant + '_'\n",
    "        + grid + '_'\n",
    "        + '20150101-21001230.nc'\n",
    "    )\n",
    "    # os.system('cdo mergetime rlut_Amon*.nc ' + new_file_name)\n",
    "    os.system('cdo mergetime tasmax_day*.nc ' + new_file_name)\n",
    "    \n",
    "print(\"finished\")"
   ]
  },
  {
   "cell_type": "code",
   "execution_count": null,
   "id": "da98ad6e-b2c2-4b6a-b434-91b39ad7b6c5",
   "metadata": {},
   "outputs": [],
   "source": []
  }
 ],
 "metadata": {
  "kernelspec": {
   "display_name": "Python 3",
   "language": "python",
   "name": "python3"
  },
  "language_info": {
   "codemirror_mode": {
    "name": "ipython",
    "version": 3
   },
   "file_extension": ".py",
   "mimetype": "text/x-python",
   "name": "python",
   "nbconvert_exporter": "python",
   "pygments_lexer": "ipython3",
   "version": "3.9.2"
  }
 },
 "nbformat": 4,
 "nbformat_minor": 5
}
